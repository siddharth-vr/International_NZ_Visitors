{
 "cells": [
  {
   "cell_type": "markdown",
   "metadata": {},
   "source": [
    "# DATA WRANGLING PROJECT \n",
    "## International Visitors\n",
    "This notebook consists of the wrangling involved in `International Visitors Data`\n",
    "\n",
    "## Section 1 - Wrangling the International Visitors data\n",
    "\n",
    "The steps are as follows:\n",
    " 1. Treating the missing values\n",
    " 2. Aggregating the columns\n",
    " 3. Reshaping the dataframe into common structure"
   ]
  },
  {
   "cell_type": "code",
   "execution_count": 134,
   "metadata": {},
   "outputs": [],
   "source": [
    "#Loading the required libraries:\n",
    "library(tidyverse)\n",
    "library(sqldf)\n",
    "library(stringr)\n",
    "library(data.table)\n",
    "library(ggplot2)"
   ]
  },
  {
   "cell_type": "markdown",
   "metadata": {},
   "source": [
    "### Treating the `Missing Values`:"
   ]
  },
  {
   "cell_type": "code",
   "execution_count": 108,
   "metadata": {},
   "outputs": [
    {
     "name": "stderr",
     "output_type": "stream",
     "text": [
      "Parsed with column specification:\n",
      "cols(\n",
      "  .default = col_character(),\n",
      "  SurveyResponseID = \u001b[32mcol_double()\u001b[39m,\n",
      "  ResponseID = \u001b[32mcol_double()\u001b[39m,\n",
      "  NumberOfVisitsToNZ = \u001b[32mcol_double()\u001b[39m,\n",
      "  ArrivalDay = \u001b[32mcol_double()\u001b[39m,\n",
      "  ArrivalYear = \u001b[32mcol_double()\u001b[39m,\n",
      "  NoDaysInNZ = \u001b[32mcol_double()\u001b[39m,\n",
      "  FlightClass = \u001b[33mcol_logical()\u001b[39m,\n",
      "  VisitedAUSonvisit = \u001b[33mcol_logical()\u001b[39m,\n",
      "  NoDaysInAustralia = \u001b[33mcol_logical()\u001b[39m,\n",
      "  NoDaysInAustraliaNotKnown = \u001b[33mcol_logical()\u001b[39m,\n",
      "  GroupTour = \u001b[33mcol_logical()\u001b[39m,\n",
      "  PackageDeal = \u001b[33mcol_logical()\u001b[39m,\n",
      "  PkgIncludedAirfare = \u001b[33mcol_logical()\u001b[39m,\n",
      "  NoNightsOtherCountry = \u001b[32mcol_double()\u001b[39m,\n",
      "  TravelParty = \u001b[33mcol_logical()\u001b[39m,\n",
      "  NoPeopleOver15 = \u001b[32mcol_double()\u001b[39m,\n",
      "  NoPeopleunder15 = \u001b[32mcol_double()\u001b[39m,\n",
      "  TotalCost = \u001b[32mcol_double()\u001b[39m,\n",
      "  NoPeopleSpendFor = \u001b[32mcol_double()\u001b[39m,\n",
      "  LengthOfStay = \u001b[32mcol_double()\u001b[39m\n",
      "  # ... with 11 more columns\n",
      ")\n",
      "See spec(...) for full column specifications.\n",
      "Warning message:\n",
      "\"47344 parsing failures.\n",
      "   row               col           expected                        actual                                                                                                                             file\n",
      "120186 VisitedAUSonvisit 1/0/T/F/TRUE/FALSE No                            'F:/UoC/MADS/DATA422 - Data Wrangling/Project/SampleDatasets/international-visitor-survey-zip-part-1/vw_IVSSurveyMainHeader.csv'\n",
      "120186 GroupTour         1/0/T/F/TRUE/FALSE No                            'F:/UoC/MADS/DATA422 - Data Wrangling/Project/SampleDatasets/international-visitor-survey-zip-part-1/vw_IVSSurveyMainHeader.csv'\n",
      "120186 PackageDeal       1/0/T/F/TRUE/FALSE No                            'F:/UoC/MADS/DATA422 - Data Wrangling/Project/SampleDatasets/international-visitor-survey-zip-part-1/vw_IVSSurveyMainHeader.csv'\n",
      "120186 TravelParty       1/0/T/F/TRUE/FALSE With one or more other people 'F:/UoC/MADS/DATA422 - Data Wrangling/Project/SampleDatasets/international-visitor-survey-zip-part-1/vw_IVSSurveyMainHeader.csv'\n",
      "120187 GroupTour         1/0/T/F/TRUE/FALSE No                            'F:/UoC/MADS/DATA422 - Data Wrangling/Project/SampleDatasets/international-visitor-survey-zip-part-1/vw_IVSSurveyMainHeader.csv'\n",
      "...... ................. .................. ............................. ................................................................................................................................\n",
      "See problems(...) for more details.\n",
      "\""
     ]
    },
    {
     "name": "stdout",
     "output_type": "stream",
     "text": [
      "Observations: 51,140\n",
      "Variables: 11\n",
      "$ Year               \u001b[3m\u001b[90m<dbl>\u001b[39m\u001b[23m 2017, 2017, 2017, 2017, 2017, 2017, 2017, 2017, ...\n",
      "$ ArrivalMonth       \u001b[3m\u001b[90m<chr>\u001b[39m\u001b[23m \"March\", \"March\", \"March\", \"April\", \"January\", \"...\n",
      "$ CORNextYr          \u001b[3m\u001b[90m<chr>\u001b[39m\u001b[23m \"United States of America\", \"United States of Am...\n",
      "$ Airport            \u001b[3m\u001b[90m<chr>\u001b[39m\u001b[23m \"Auckland\", \"Auckland\", \"Auckland\", \"Auckland\", ...\n",
      "$ POV                \u001b[3m\u001b[90m<chr>\u001b[39m\u001b[23m \"Holiday / vacation\", \"Holiday / vacation\", \"Hol...\n",
      "$ AgeRange           \u001b[3m\u001b[90m<chr>\u001b[39m\u001b[23m \"65 - 69\", \"55 - 59\", \"60 - 64\", \"25 - 29\", \"30 ...\n",
      "$ MainAccommTypeUsed \u001b[3m\u001b[90m<chr>\u001b[39m\u001b[23m \"Bed and Breakfast\", \"Luxury Accommodation, 5-st...\n",
      "$ LengthOfStay       \u001b[3m\u001b[90m<dbl>\u001b[39m\u001b[23m 17, 23, 14, 6, 75, 8, 14, 33, 7, 27, 5, 6, 5, 36...\n",
      "$ TotalSpendInNZ     \u001b[3m\u001b[90m<dbl>\u001b[39m\u001b[23m 7.092227e+02, 1.418445e+04, 9.078051e+03, 1.8991...\n",
      "$ Gender             \u001b[3m\u001b[90m<chr>\u001b[39m\u001b[23m \"Female\", \"Male\", \"Male\", \"Male\", \"Female\", \"Mal...\n",
      "$ Qtr                \u001b[3m\u001b[90m<chr>\u001b[39m\u001b[23m \"2017 2\", \"2017 2\", \"2017 2\", \"2017 2\", \"2017 2\"...\n"
     ]
    }
   ],
   "source": [
    "#Reading CSV file into dataframe\n",
    "\n",
    "df <- read_csv(\"F:/UoC/MADS/DATA422 - Data Wrangling/Project/SampleDatasets/international-visitor-survey-zip-part-1/vw_IVSSurveyMainHeader.csv\")\n",
    "\n",
    "#Selecting the required columns and Filtering the records from the dataframe into new dataframe to proceed further\n",
    "\n",
    "df <- df %>% \n",
    "        select(Year,ArrivalMonth,CORNextYr,Airport,POV,AgeRange,MainAccommTypeUsed,LengthOfStay,TotalSpendInNZ,Gender,Qtr) %>% \n",
    "        filter(Year >= 2014)\n",
    "\n",
    "unclean_df <- df\n",
    "unclean_df %>% glimpse"
   ]
  },
  {
   "cell_type": "code",
   "execution_count": 109,
   "metadata": {},
   "outputs": [
    {
     "data": {
      "text/html": [
       "<table>\n",
       "<caption>A data.frame: 21 × 2</caption>\n",
       "<thead>\n",
       "\t<tr><th scope=col>MainAccommTypeUsed</th><th scope=col>freq</th></tr>\n",
       "\t<tr><th scope=col>&lt;chr&gt;</th><th scope=col>&lt;int&gt;</th></tr>\n",
       "</thead>\n",
       "<tbody>\n",
       "\t<tr><td>A house you own                                                                                               </td><td>  605</td></tr>\n",
       "\t<tr><td>Another place where you pay to park a caravan or campervan / motorhome overnight                              </td><td>  396</td></tr>\n",
       "\t<tr><td>Backpackers                                                                                                   </td><td> 2325</td></tr>\n",
       "\t<tr><td>Bed and Breakfast                                                                                             </td><td> 1493</td></tr>\n",
       "\t<tr><td>Camping at a National Park / Department of Conservation camping ground                                        </td><td>  656</td></tr>\n",
       "\t<tr><td>Farm-stay or Home-stay                                                                                        </td><td>  652</td></tr>\n",
       "\t<tr><td>Free camping - staying at a place that is NOT an official camp site, in a tent, caravan, campervan / motorhome</td><td>  515</td></tr>\n",
       "\t<tr><td>Hotel                                                                                                         </td><td>10744</td></tr>\n",
       "\t<tr><td>House / flat that you paid some rent for                                                                      </td><td> 3878</td></tr>\n",
       "\t<tr><td>In a hut at a National Park / Department of Conservation area                                                 </td><td>  216</td></tr>\n",
       "\t<tr><td>Luxury Accommodation, 5-star Hotel, Luxury Lodge                                                              </td><td> 2607</td></tr>\n",
       "\t<tr><td>Marae                                                                                                         </td><td>   29</td></tr>\n",
       "\t<tr><td>Motel, Motor Inn or Serviced Apartment                                                                        </td><td> 7000</td></tr>\n",
       "\t<tr><td>NOT SURE                                                                                                      </td><td> 2341</td></tr>\n",
       "\t<tr><td>Other                                                                                                         </td><td>    9</td></tr>\n",
       "\t<tr><td>Other camping ground / holiday park (where you can stay in a tent, cabin, caravan, or campervan / motorhome)  </td><td> 3149</td></tr>\n",
       "\t<tr><td>Private Hotel / Guesthouse                                                                                    </td><td>  808</td></tr>\n",
       "\t<tr><td>Staying with family or friends                                                                                </td><td>12053</td></tr>\n",
       "\t<tr><td>Student residence                                                                                             </td><td>  301</td></tr>\n",
       "\t<tr><td>Yacht or other boat                                                                                           </td><td>   85</td></tr>\n",
       "\t<tr><td>Youth Hostel, YMCA, YWCA                                                                                      </td><td> 1278</td></tr>\n",
       "</tbody>\n",
       "</table>\n"
      ],
      "text/latex": [
       "A data.frame: 21 × 2\n",
       "\\begin{tabular}{r|ll}\n",
       " MainAccommTypeUsed & freq\\\\\n",
       " <chr> & <int>\\\\\n",
       "\\hline\n",
       "\t A house you own                                                                                                &   605\\\\\n",
       "\t Another place where you pay to park a caravan or campervan / motorhome overnight                               &   396\\\\\n",
       "\t Backpackers                                                                                                    &  2325\\\\\n",
       "\t Bed and Breakfast                                                                                              &  1493\\\\\n",
       "\t Camping at a National Park / Department of Conservation camping ground                                         &   656\\\\\n",
       "\t Farm-stay or Home-stay                                                                                         &   652\\\\\n",
       "\t Free camping - staying at a place that is NOT an official camp site, in a tent, caravan, campervan / motorhome &   515\\\\\n",
       "\t Hotel                                                                                                          & 10744\\\\\n",
       "\t House / flat that you paid some rent for                                                                       &  3878\\\\\n",
       "\t In a hut at a National Park / Department of Conservation area                                                  &   216\\\\\n",
       "\t Luxury Accommodation, 5-star Hotel, Luxury Lodge                                                               &  2607\\\\\n",
       "\t Marae                                                                                                          &    29\\\\\n",
       "\t Motel, Motor Inn or Serviced Apartment                                                                         &  7000\\\\\n",
       "\t NOT SURE                                                                                                       &  2341\\\\\n",
       "\t Other                                                                                                          &     9\\\\\n",
       "\t Other camping ground / holiday park (where you can stay in a tent, cabin, caravan, or campervan / motorhome)   &  3149\\\\\n",
       "\t Private Hotel / Guesthouse                                                                                     &   808\\\\\n",
       "\t Staying with family or friends                                                                                 & 12053\\\\\n",
       "\t Student residence                                                                                              &   301\\\\\n",
       "\t Yacht or other boat                                                                                            &    85\\\\\n",
       "\t Youth Hostel, YMCA, YWCA                                                                                       &  1278\\\\\n",
       "\\end{tabular}\n"
      ],
      "text/markdown": [
       "\n",
       "A data.frame: 21 × 2\n",
       "\n",
       "| MainAccommTypeUsed &lt;chr&gt; | freq &lt;int&gt; |\n",
       "|---|---|\n",
       "| A house you own                                                                                                |   605 |\n",
       "| Another place where you pay to park a caravan or campervan / motorhome overnight                               |   396 |\n",
       "| Backpackers                                                                                                    |  2325 |\n",
       "| Bed and Breakfast                                                                                              |  1493 |\n",
       "| Camping at a National Park / Department of Conservation camping ground                                         |   656 |\n",
       "| Farm-stay or Home-stay                                                                                         |   652 |\n",
       "| Free camping - staying at a place that is NOT an official camp site, in a tent, caravan, campervan / motorhome |   515 |\n",
       "| Hotel                                                                                                          | 10744 |\n",
       "| House / flat that you paid some rent for                                                                       |  3878 |\n",
       "| In a hut at a National Park / Department of Conservation area                                                  |   216 |\n",
       "| Luxury Accommodation, 5-star Hotel, Luxury Lodge                                                               |  2607 |\n",
       "| Marae                                                                                                          |    29 |\n",
       "| Motel, Motor Inn or Serviced Apartment                                                                         |  7000 |\n",
       "| NOT SURE                                                                                                       |  2341 |\n",
       "| Other                                                                                                          |     9 |\n",
       "| Other camping ground / holiday park (where you can stay in a tent, cabin, caravan, or campervan / motorhome)   |  3149 |\n",
       "| Private Hotel / Guesthouse                                                                                     |   808 |\n",
       "| Staying with family or friends                                                                                 | 12053 |\n",
       "| Student residence                                                                                              |   301 |\n",
       "| Yacht or other boat                                                                                            |    85 |\n",
       "| Youth Hostel, YMCA, YWCA                                                                                       |  1278 |\n",
       "\n"
      ],
      "text/plain": [
       "   MainAccommTypeUsed                                                                                            \n",
       "1  A house you own                                                                                               \n",
       "2  Another place where you pay to park a caravan or campervan / motorhome overnight                              \n",
       "3  Backpackers                                                                                                   \n",
       "4  Bed and Breakfast                                                                                             \n",
       "5  Camping at a National Park / Department of Conservation camping ground                                        \n",
       "6  Farm-stay or Home-stay                                                                                        \n",
       "7  Free camping - staying at a place that is NOT an official camp site, in a tent, caravan, campervan / motorhome\n",
       "8  Hotel                                                                                                         \n",
       "9  House / flat that you paid some rent for                                                                      \n",
       "10 In a hut at a National Park / Department of Conservation area                                                 \n",
       "11 Luxury Accommodation, 5-star Hotel, Luxury Lodge                                                              \n",
       "12 Marae                                                                                                         \n",
       "13 Motel, Motor Inn or Serviced Apartment                                                                        \n",
       "14 NOT SURE                                                                                                      \n",
       "15 Other                                                                                                         \n",
       "16 Other camping ground / holiday park (where you can stay in a tent, cabin, caravan, or campervan / motorhome)  \n",
       "17 Private Hotel / Guesthouse                                                                                    \n",
       "18 Staying with family or friends                                                                                \n",
       "19 Student residence                                                                                             \n",
       "20 Yacht or other boat                                                                                           \n",
       "21 Youth Hostel, YMCA, YWCA                                                                                      \n",
       "   freq \n",
       "1    605\n",
       "2    396\n",
       "3   2325\n",
       "4   1493\n",
       "5    656\n",
       "6    652\n",
       "7    515\n",
       "8  10744\n",
       "9   3878\n",
       "10   216\n",
       "11  2607\n",
       "12    29\n",
       "13  7000\n",
       "14  2341\n",
       "15     9\n",
       "16  3149\n",
       "17   808\n",
       "18 12053\n",
       "19   301\n",
       "20    85\n",
       "21  1278"
      ]
     },
     "metadata": {},
     "output_type": "display_data"
    }
   ],
   "source": [
    "#Replaced the 'NA' value as 'NOT SURE', since it is one of the categorical value used in survey for Accomodation Type \n",
    "\n",
    "unclean_df$MainAccommTypeUsed <- as.character(unclean_df$MainAccommTypeUsed)\n",
    "unclean_df$MainAccommTypeUsed <- ifelse(is.na(unclean_df$MainAccommTypeUsed),'NOT SURE', unclean_df$MainAccommTypeUsed)\n",
    "unclean_df %>% plyr::count(\"MainAccommTypeUsed\")   # using the library \"plyr\" for count function"
   ]
  },
  {
   "cell_type": "code",
   "execution_count": 110,
   "metadata": {},
   "outputs": [],
   "source": [
    "#Replaced the NA value in Arrival Month as Not specified\n",
    "\n",
    "unclean_df <- unclean_df %>%\n",
    "                  mutate(ArrivalMonth = replace(ArrivalMonth, is.na(ArrivalMonth), \"Not Specified\"))\n",
    "#unclean_df %>% count(\"ArrivalMonth\")"
   ]
  },
  {
   "cell_type": "code",
   "execution_count": 111,
   "metadata": {},
   "outputs": [
    {
     "data": {
      "text/html": [
       "<table>\n",
       "<caption>A data.frame: 6 × 7</caption>\n",
       "<thead>\n",
       "\t<tr><th scope=col>Year</th><th scope=col>ArrivalMonth</th><th scope=col>CORNextYr</th><th scope=col>Airport</th><th scope=col>POV</th><th scope=col>avg_stay</th><th scope=col>Qtr</th></tr>\n",
       "\t<tr><th scope=col>&lt;dbl&gt;</th><th scope=col>&lt;chr&gt;</th><th scope=col>&lt;chr&gt;</th><th scope=col>&lt;chr&gt;</th><th scope=col>&lt;chr&gt;</th><th scope=col>&lt;dbl&gt;</th><th scope=col>&lt;chr&gt;</th></tr>\n",
       "</thead>\n",
       "<tbody>\n",
       "\t<tr><td>2014</td><td>April</td><td>Argentina</td><td>Auckland</td><td>Holiday / vacation     </td><td>243.000000</td><td>2014 4</td></tr>\n",
       "\t<tr><td>2014</td><td>April</td><td>Australia</td><td>Auckland</td><td>Business               </td><td>  5.625000</td><td>2014 2</td></tr>\n",
       "\t<tr><td>2014</td><td>April</td><td>Australia</td><td>Auckland</td><td>Conference / convention</td><td>  4.500000</td><td>2014 2</td></tr>\n",
       "\t<tr><td>2014</td><td>April</td><td>Australia</td><td>Auckland</td><td>Education              </td><td>  6.000000</td><td>2014 2</td></tr>\n",
       "\t<tr><td>2014</td><td>April</td><td>Australia</td><td>Auckland</td><td>Holiday / vacation     </td><td>  8.142857</td><td>2014 2</td></tr>\n",
       "\t<tr><td>2014</td><td>April</td><td>Australia</td><td>Auckland</td><td>Other                  </td><td> 10.500000</td><td>2014 2</td></tr>\n",
       "</tbody>\n",
       "</table>\n"
      ],
      "text/latex": [
       "A data.frame: 6 × 7\n",
       "\\begin{tabular}{r|lllllll}\n",
       " Year & ArrivalMonth & CORNextYr & Airport & POV & avg\\_stay & Qtr\\\\\n",
       " <dbl> & <chr> & <chr> & <chr> & <chr> & <dbl> & <chr>\\\\\n",
       "\\hline\n",
       "\t 2014 & April & Argentina & Auckland & Holiday / vacation      & 243.000000 & 2014 4\\\\\n",
       "\t 2014 & April & Australia & Auckland & Business                &   5.625000 & 2014 2\\\\\n",
       "\t 2014 & April & Australia & Auckland & Conference / convention &   4.500000 & 2014 2\\\\\n",
       "\t 2014 & April & Australia & Auckland & Education               &   6.000000 & 2014 2\\\\\n",
       "\t 2014 & April & Australia & Auckland & Holiday / vacation      &   8.142857 & 2014 2\\\\\n",
       "\t 2014 & April & Australia & Auckland & Other                   &  10.500000 & 2014 2\\\\\n",
       "\\end{tabular}\n"
      ],
      "text/markdown": [
       "\n",
       "A data.frame: 6 × 7\n",
       "\n",
       "| Year &lt;dbl&gt; | ArrivalMonth &lt;chr&gt; | CORNextYr &lt;chr&gt; | Airport &lt;chr&gt; | POV &lt;chr&gt; | avg_stay &lt;dbl&gt; | Qtr &lt;chr&gt; |\n",
       "|---|---|---|---|---|---|---|\n",
       "| 2014 | April | Argentina | Auckland | Holiday / vacation      | 243.000000 | 2014 4 |\n",
       "| 2014 | April | Australia | Auckland | Business                |   5.625000 | 2014 2 |\n",
       "| 2014 | April | Australia | Auckland | Conference / convention |   4.500000 | 2014 2 |\n",
       "| 2014 | April | Australia | Auckland | Education               |   6.000000 | 2014 2 |\n",
       "| 2014 | April | Australia | Auckland | Holiday / vacation      |   8.142857 | 2014 2 |\n",
       "| 2014 | April | Australia | Auckland | Other                   |  10.500000 | 2014 2 |\n",
       "\n"
      ],
      "text/plain": [
       "  Year ArrivalMonth CORNextYr Airport  POV                     avg_stay  \n",
       "1 2014 April        Argentina Auckland Holiday / vacation      243.000000\n",
       "2 2014 April        Australia Auckland Business                  5.625000\n",
       "3 2014 April        Australia Auckland Conference / convention   4.500000\n",
       "4 2014 April        Australia Auckland Education                 6.000000\n",
       "5 2014 April        Australia Auckland Holiday / vacation        8.142857\n",
       "6 2014 April        Australia Auckland Other                    10.500000\n",
       "  Qtr   \n",
       "1 2014 4\n",
       "2 2014 2\n",
       "3 2014 2\n",
       "4 2014 2\n",
       "5 2014 2\n",
       "6 2014 2"
      ]
     },
     "metadata": {},
     "output_type": "display_data"
    }
   ],
   "source": [
    "#Grouped by the specific columns and found the average value of stay from a Lengthofstay column for that particular category\n",
    "#and used that to fill any NULL value records within that category.\n",
    "#Here the category means, the first 5 columns in our dataframe i.e. Year,ArrivalMonth,CORNextYr,Airport,POV: \n",
    "\n",
    "aggr_stay <- sqldf(\"select Year,ArrivalMonth,CORNextYr,Airport,POV, avg(LengthOfStay) \n",
    "                    as avg_stay,Qtr from unclean_df group by Year,ArrivalMonth,CORNextYr,Airport,POV\")\n",
    "aggr_stay %>% head()"
   ]
  },
  {
   "cell_type": "code",
   "execution_count": 112,
   "metadata": {},
   "outputs": [
    {
     "name": "stdout",
     "output_type": "stream",
     "text": [
      "Observations: 51,140\n",
      "Variables: 18\n",
      "$ Year               \u001b[3m\u001b[90m<dbl>\u001b[39m\u001b[23m 2017, 2017, 2017, 2017, 2017, 2017, 2017, 2017, ...\n",
      "$ ArrivalMonth       \u001b[3m\u001b[90m<chr>\u001b[39m\u001b[23m \"March\", \"March\", \"March\", \"April\", \"January\", \"...\n",
      "$ CORNextYr          \u001b[3m\u001b[90m<chr>\u001b[39m\u001b[23m \"United States of America\", \"United States of Am...\n",
      "$ Airport            \u001b[3m\u001b[90m<chr>\u001b[39m\u001b[23m \"Auckland\", \"Auckland\", \"Auckland\", \"Auckland\", ...\n",
      "$ POV                \u001b[3m\u001b[90m<chr>\u001b[39m\u001b[23m \"Holiday / vacation\", \"Holiday / vacation\", \"Hol...\n",
      "$ AgeRange           \u001b[3m\u001b[90m<chr>\u001b[39m\u001b[23m \"65 - 69\", \"55 - 59\", \"60 - 64\", \"25 - 29\", \"30 ...\n",
      "$ MainAccommTypeUsed \u001b[3m\u001b[90m<chr>\u001b[39m\u001b[23m \"Bed and Breakfast\", \"Luxury Accommodation, 5-st...\n",
      "$ LengthOfStay       \u001b[3m\u001b[90m<dbl>\u001b[39m\u001b[23m 17, 23, 14, 6, 75, 8, 14, 33, 7, 27, 5, 6, 5, 36...\n",
      "$ TotalSpendInNZ     \u001b[3m\u001b[90m<dbl>\u001b[39m\u001b[23m 7.092227e+02, 1.418445e+04, 9.078051e+03, 1.8991...\n",
      "$ Gender             \u001b[3m\u001b[90m<chr>\u001b[39m\u001b[23m \"Female\", \"Male\", \"Male\", \"Male\", \"Female\", \"Mal...\n",
      "$ Qtr                \u001b[3m\u001b[90m<chr>\u001b[39m\u001b[23m \"2017 2\", \"2017 2\", \"2017 2\", \"2017 2\", \"2017 2\"...\n",
      "$ Year..12           \u001b[3m\u001b[90m<dbl>\u001b[39m\u001b[23m 2017, 2017, 2017, 2017, 2017, 2017, 2017, 2017, ...\n",
      "$ ArrivalMonth..13   \u001b[3m\u001b[90m<chr>\u001b[39m\u001b[23m \"March\", \"March\", \"March\", \"April\", \"January\", \"...\n",
      "$ CORNextYr..14      \u001b[3m\u001b[90m<chr>\u001b[39m\u001b[23m \"United States of America\", \"United States of Am...\n",
      "$ Airport..15        \u001b[3m\u001b[90m<chr>\u001b[39m\u001b[23m \"Auckland\", \"Auckland\", \"Auckland\", \"Auckland\", ...\n",
      "$ POV..16            \u001b[3m\u001b[90m<chr>\u001b[39m\u001b[23m \"Holiday / vacation\", \"Holiday / vacation\", \"Hol...\n",
      "$ avg_stay           \u001b[3m\u001b[90m<dbl>\u001b[39m\u001b[23m 13.64516, 13.64516, 13.64516, 16.30000, 12.22222...\n",
      "$ Qtr..18            \u001b[3m\u001b[90m<chr>\u001b[39m\u001b[23m \"2017 2\", \"2017 2\", \"2017 2\", \"2017 2\", \"2017 2\"...\n"
     ]
    }
   ],
   "source": [
    "#joining the two dataframes unclean_df and aggr based on the category (year, arrivalmonth, CORNextyr, Airport and POV)\n",
    "\n",
    "sam1 <- unclean_df\n",
    "sam2 <- aggr_stay\n",
    "join <- sqldf(\"select * from sam1 left outer join sam2 on sam1.Year = sam2.Year\n",
    "               where sam1.ArrivalMonth = sam2.ArrivalMonth and sam1.CORNextYr = sam2.CORNextYr and sam1.Airport = sam2.Airport and sam1.POV = sam2.POV\")\n",
    "join %>% glimpse"
   ]
  },
  {
   "cell_type": "code",
   "execution_count": 113,
   "metadata": {},
   "outputs": [],
   "source": [
    "#Replacing the missing values in Lengthofstay column as Not specified\n",
    "\n",
    "join <- join %>%\n",
    "            mutate(LengthOfStay = replace(LengthOfStay, is.na(LengthOfStay), \"Not Specified\"))\n",
    "\n",
    "#Replacing the Not specified values in Lengthofstay column with average value in ang_stay column\n",
    "\n",
    "position <- join$LengthOfStay %in% \"Not Specified\"\n",
    "join[position,c(8)] <- join[position,c(17)]"
   ]
  },
  {
   "cell_type": "code",
   "execution_count": 114,
   "metadata": {},
   "outputs": [
    {
     "name": "stdout",
     "output_type": "stream",
     "text": [
      "Observations: 51,140\n",
      "Variables: 11\n",
      "$ Year               \u001b[3m\u001b[90m<dbl>\u001b[39m\u001b[23m 2017, 2017, 2017, 2017, 2017, 2017, 2017, 2017, ...\n",
      "$ ArrivalMonth       \u001b[3m\u001b[90m<chr>\u001b[39m\u001b[23m \"March\", \"March\", \"March\", \"April\", \"January\", \"...\n",
      "$ CORNextYr          \u001b[3m\u001b[90m<chr>\u001b[39m\u001b[23m \"United States of America\", \"United States of Am...\n",
      "$ Airport            \u001b[3m\u001b[90m<chr>\u001b[39m\u001b[23m \"Auckland\", \"Auckland\", \"Auckland\", \"Auckland\", ...\n",
      "$ POV                \u001b[3m\u001b[90m<chr>\u001b[39m\u001b[23m \"Holiday / vacation\", \"Holiday / vacation\", \"Hol...\n",
      "$ AgeRange           \u001b[3m\u001b[90m<chr>\u001b[39m\u001b[23m \"65 - 69\", \"55 - 59\", \"60 - 64\", \"25 - 29\", \"30 ...\n",
      "$ MainAccommTypeUsed \u001b[3m\u001b[90m<chr>\u001b[39m\u001b[23m \"Bed and Breakfast\", \"Luxury Accommodation, 5-st...\n",
      "$ LengthOfStay       \u001b[3m\u001b[90m<chr>\u001b[39m\u001b[23m \"17\", \"23\", \"14\", \"6\", \"75\", \"8\", \"14\", \"33\", \"7...\n",
      "$ TotalSpendInNZ     \u001b[3m\u001b[90m<dbl>\u001b[39m\u001b[23m 7.092227e+02, 1.418445e+04, 9.078051e+03, 1.8991...\n",
      "$ Gender             \u001b[3m\u001b[90m<chr>\u001b[39m\u001b[23m \"Female\", \"Male\", \"Male\", \"Male\", \"Female\", \"Mal...\n",
      "$ Qtr                \u001b[3m\u001b[90m<chr>\u001b[39m\u001b[23m \"2017 2\", \"2017 2\", \"2017 2\", \"2017 2\", \"2017 2\"...\n"
     ]
    }
   ],
   "source": [
    "#Selecting the required columns from a join dataframe into final dataframe\n",
    "\n",
    "final <- join %>% select(c(1:11))\n",
    "final %>% glimpse"
   ]
  },
  {
   "cell_type": "code",
   "execution_count": 115,
   "metadata": {},
   "outputs": [
    {
     "name": "stdout",
     "output_type": "stream",
     "text": [
      "Observations: 51,119\n",
      "Variables: 11\n",
      "$ Year               \u001b[3m\u001b[90m<dbl>\u001b[39m\u001b[23m 2017, 2017, 2017, 2017, 2017, 2017, 2017, 2017, ...\n",
      "$ ArrivalMonth       \u001b[3m\u001b[90m<chr>\u001b[39m\u001b[23m \"March\", \"March\", \"March\", \"April\", \"January\", \"...\n",
      "$ CORNextYr          \u001b[3m\u001b[90m<chr>\u001b[39m\u001b[23m \"United States of America\", \"United States of Am...\n",
      "$ Airport            \u001b[3m\u001b[90m<chr>\u001b[39m\u001b[23m \"Auckland\", \"Auckland\", \"Auckland\", \"Auckland\", ...\n",
      "$ POV                \u001b[3m\u001b[90m<chr>\u001b[39m\u001b[23m \"Holiday / vacation\", \"Holiday / vacation\", \"Hol...\n",
      "$ AgeRange           \u001b[3m\u001b[90m<chr>\u001b[39m\u001b[23m \"65 - 69\", \"55 - 59\", \"60 - 64\", \"25 - 29\", \"30 ...\n",
      "$ MainAccommTypeUsed \u001b[3m\u001b[90m<chr>\u001b[39m\u001b[23m \"Bed and Breakfast\", \"Luxury Accommodation, 5-st...\n",
      "$ LengthOfStay       \u001b[3m\u001b[90m<chr>\u001b[39m\u001b[23m \"17\", \"23\", \"14\", \"6\", \"75\", \"8\", \"14\", \"33\", \"7...\n",
      "$ TotalSpendInNZ     \u001b[3m\u001b[90m<dbl>\u001b[39m\u001b[23m 7.092227e+02, 1.418445e+04, 9.078051e+03, 1.8991...\n",
      "$ Gender             \u001b[3m\u001b[90m<chr>\u001b[39m\u001b[23m \"Female\", \"Male\", \"Male\", \"Male\", \"Female\", \"Mal...\n",
      "$ Qtr                \u001b[3m\u001b[90m<chr>\u001b[39m\u001b[23m \"2017 2\", \"2017 2\", \"2017 2\", \"2017 2\", \"2017 2\"...\n"
     ]
    },
    {
     "data": {
      "text/html": [
       "<table>\n",
       "<caption>A data.frame: 6 × 11</caption>\n",
       "<thead>\n",
       "\t<tr><th scope=col>Year</th><th scope=col>ArrivalMonth</th><th scope=col>Qtr</th><th scope=col>CORNextYr</th><th scope=col>Airport</th><th scope=col>POV</th><th scope=col>AgeRange</th><th scope=col>MainAccommTypeUsed</th><th scope=col>LengthOfStay</th><th scope=col>TotalSpendInNZ</th><th scope=col>Gender</th></tr>\n",
       "\t<tr><th scope=col>&lt;dbl&gt;</th><th scope=col>&lt;chr&gt;</th><th scope=col>&lt;chr&gt;</th><th scope=col>&lt;chr&gt;</th><th scope=col>&lt;chr&gt;</th><th scope=col>&lt;chr&gt;</th><th scope=col>&lt;chr&gt;</th><th scope=col>&lt;chr&gt;</th><th scope=col>&lt;chr&gt;</th><th scope=col>&lt;dbl&gt;</th><th scope=col>&lt;chr&gt;</th></tr>\n",
       "</thead>\n",
       "<tbody>\n",
       "\t<tr><td>2017</td><td>March  </td><td>2017 2</td><td>United States of America</td><td>Auckland</td><td>Holiday / vacation          </td><td>65 - 69</td><td>Bed and Breakfast                               </td><td>17</td><td>  709.2227</td><td>Female</td></tr>\n",
       "\t<tr><td>2017</td><td>March  </td><td>2017 2</td><td>United States of America</td><td>Auckland</td><td>Holiday / vacation          </td><td>55 - 59</td><td>Luxury Accommodation, 5-star Hotel, Luxury Lodge</td><td>23</td><td>14184.4540</td><td>Male  </td></tr>\n",
       "\t<tr><td>2017</td><td>March  </td><td>2017 2</td><td>United States of America</td><td>Auckland</td><td>Holiday / vacation          </td><td>60 - 64</td><td>Hotel                                           </td><td>14</td><td> 9078.0505</td><td>Male  </td></tr>\n",
       "\t<tr><td>2017</td><td>April  </td><td>2017 2</td><td>Canada                  </td><td>Auckland</td><td>Holiday / vacation          </td><td>25 - 29</td><td>Hotel                                           </td><td>6 </td><td> 1899.1711</td><td>Male  </td></tr>\n",
       "\t<tr><td>2017</td><td>January</td><td>2017 2</td><td>Australia               </td><td>Auckland</td><td>Visiting friends / relatives</td><td>30 - 34</td><td>Staying with family or friends                  </td><td>75</td><td> 1000.0000</td><td>Female</td></tr>\n",
       "\t<tr><td>2017</td><td>March  </td><td>2017 2</td><td>United States of America</td><td>Auckland</td><td>Visiting friends / relatives</td><td>45 - 49</td><td>Staying with family or friends                  </td><td>8 </td><td> 9929.1178</td><td>Male  </td></tr>\n",
       "</tbody>\n",
       "</table>\n"
      ],
      "text/latex": [
       "A data.frame: 6 × 11\n",
       "\\begin{tabular}{r|lllllllllll}\n",
       " Year & ArrivalMonth & Qtr & CORNextYr & Airport & POV & AgeRange & MainAccommTypeUsed & LengthOfStay & TotalSpendInNZ & Gender\\\\\n",
       " <dbl> & <chr> & <chr> & <chr> & <chr> & <chr> & <chr> & <chr> & <chr> & <dbl> & <chr>\\\\\n",
       "\\hline\n",
       "\t 2017 & March   & 2017 2 & United States of America & Auckland & Holiday / vacation           & 65 - 69 & Bed and Breakfast                                & 17 &   709.2227 & Female\\\\\n",
       "\t 2017 & March   & 2017 2 & United States of America & Auckland & Holiday / vacation           & 55 - 59 & Luxury Accommodation, 5-star Hotel, Luxury Lodge & 23 & 14184.4540 & Male  \\\\\n",
       "\t 2017 & March   & 2017 2 & United States of America & Auckland & Holiday / vacation           & 60 - 64 & Hotel                                            & 14 &  9078.0505 & Male  \\\\\n",
       "\t 2017 & April   & 2017 2 & Canada                   & Auckland & Holiday / vacation           & 25 - 29 & Hotel                                            & 6  &  1899.1711 & Male  \\\\\n",
       "\t 2017 & January & 2017 2 & Australia                & Auckland & Visiting friends / relatives & 30 - 34 & Staying with family or friends                   & 75 &  1000.0000 & Female\\\\\n",
       "\t 2017 & March   & 2017 2 & United States of America & Auckland & Visiting friends / relatives & 45 - 49 & Staying with family or friends                   & 8  &  9929.1178 & Male  \\\\\n",
       "\\end{tabular}\n"
      ],
      "text/markdown": [
       "\n",
       "A data.frame: 6 × 11\n",
       "\n",
       "| Year &lt;dbl&gt; | ArrivalMonth &lt;chr&gt; | Qtr &lt;chr&gt; | CORNextYr &lt;chr&gt; | Airport &lt;chr&gt; | POV &lt;chr&gt; | AgeRange &lt;chr&gt; | MainAccommTypeUsed &lt;chr&gt; | LengthOfStay &lt;chr&gt; | TotalSpendInNZ &lt;dbl&gt; | Gender &lt;chr&gt; |\n",
       "|---|---|---|---|---|---|---|---|---|---|---|\n",
       "| 2017 | March   | 2017 2 | United States of America | Auckland | Holiday / vacation           | 65 - 69 | Bed and Breakfast                                | 17 |   709.2227 | Female |\n",
       "| 2017 | March   | 2017 2 | United States of America | Auckland | Holiday / vacation           | 55 - 59 | Luxury Accommodation, 5-star Hotel, Luxury Lodge | 23 | 14184.4540 | Male   |\n",
       "| 2017 | March   | 2017 2 | United States of America | Auckland | Holiday / vacation           | 60 - 64 | Hotel                                            | 14 |  9078.0505 | Male   |\n",
       "| 2017 | April   | 2017 2 | Canada                   | Auckland | Holiday / vacation           | 25 - 29 | Hotel                                            | 6  |  1899.1711 | Male   |\n",
       "| 2017 | January | 2017 2 | Australia                | Auckland | Visiting friends / relatives | 30 - 34 | Staying with family or friends                   | 75 |  1000.0000 | Female |\n",
       "| 2017 | March   | 2017 2 | United States of America | Auckland | Visiting friends / relatives | 45 - 49 | Staying with family or friends                   | 8  |  9929.1178 | Male   |\n",
       "\n"
      ],
      "text/plain": [
       "  Year ArrivalMonth Qtr    CORNextYr                Airport \n",
       "1 2017 March        2017 2 United States of America Auckland\n",
       "2 2017 March        2017 2 United States of America Auckland\n",
       "3 2017 March        2017 2 United States of America Auckland\n",
       "4 2017 April        2017 2 Canada                   Auckland\n",
       "5 2017 January      2017 2 Australia                Auckland\n",
       "6 2017 March        2017 2 United States of America Auckland\n",
       "  POV                          AgeRange\n",
       "1 Holiday / vacation           65 - 69 \n",
       "2 Holiday / vacation           55 - 59 \n",
       "3 Holiday / vacation           60 - 64 \n",
       "4 Holiday / vacation           25 - 29 \n",
       "5 Visiting friends / relatives 30 - 34 \n",
       "6 Visiting friends / relatives 45 - 49 \n",
       "  MainAccommTypeUsed                               LengthOfStay TotalSpendInNZ\n",
       "1 Bed and Breakfast                                17             709.2227    \n",
       "2 Luxury Accommodation, 5-star Hotel, Luxury Lodge 23           14184.4540    \n",
       "3 Hotel                                            14            9078.0505    \n",
       "4 Hotel                                            6             1899.1711    \n",
       "5 Staying with family or friends                   75            1000.0000    \n",
       "6 Staying with family or friends                   8             9929.1178    \n",
       "  Gender\n",
       "1 Female\n",
       "2 Male  \n",
       "3 Male  \n",
       "4 Male  \n",
       "5 Female\n",
       "6 Male  "
      ]
     },
     "metadata": {},
     "output_type": "display_data"
    }
   ],
   "source": [
    "#Removed 21 rows which don't have values (NA)in Number_of_Days column\n",
    "\n",
    "final[complete.cases(final[ ,\"LengthOfStay\"]),] %>% glimpse()\n",
    "\n",
    "#Arranged column in requierd order\n",
    "\n",
    "final <- final %>% select(\"Year\",\"ArrivalMonth\",\"Qtr\",\"CORNextYr\",\"Airport\",\"POV\",\"AgeRange\",\"MainAccommTypeUsed\",\"LengthOfStay\",\"TotalSpendInNZ\",\"Gender\")\n",
    "final %>% head()"
   ]
  },
  {
   "cell_type": "code",
   "execution_count": 128,
   "metadata": {},
   "outputs": [],
   "source": [
    "#Renaming the columns\n",
    "clean_df <- dplyr::rename(final, \n",
    "                     Year = Year,\n",
    "                     Month = ArrivalMonth,\n",
    "                     Quarter = Qtr,\n",
    "                     Country = CORNextYr,\n",
    "                     NZ_City = Airport,\n",
    "                     Visit_Purpose = POV,\n",
    "                     Number_of_People = Gender,\n",
    "                     Number_of_Days = LengthOfStay,\n",
    "                     Accommadation_Type = MainAccommTypeUsed,\n",
    "                     Age_Range = AgeRange,\n",
    "                     Total_Spending = TotalSpendInNZ,      \n",
    "                )\n",
    "clean_df$Number_of_Days <- as.double(clean_df$Number_of_Days)"
   ]
  },
  {
   "cell_type": "markdown",
   "metadata": {},
   "source": [
    "The below code can be executed if you want to see the output of the data after cleaning."
   ]
  },
  {
   "cell_type": "code",
   "execution_count": 117,
   "metadata": {},
   "outputs": [],
   "source": [
    "# Export the final(cleaned) dataframe into csv format\n",
    "\n",
    "#write_csv(final,\"Tourism_Last5.csv\")"
   ]
  },
  {
   "cell_type": "markdown",
   "metadata": {},
   "source": [
    "### Aggregating the columns\n",
    "This step involves aggregating the last 5 columns of the dataframe by the first 5 columns in each level separately."
   ]
  },
  {
   "cell_type": "markdown",
   "metadata": {},
   "source": [
    "Now, Lets create a function to aggregate each columns and then automate it. "
   ]
  },
  {
   "cell_type": "code",
   "execution_count": 118,
   "metadata": {},
   "outputs": [],
   "source": [
    "#Creating a function to calculate Average days spent\n",
    "avgdays_c <- function(df){\n",
    "                aggr_days <- df %>% \n",
    "                select(c(1:6,9)) %>%\n",
    "                group_by(Year,Month,Quarter,Country,NZ_City,Visit_Purpose) %>%\n",
    "                dplyr::summarise(AvgDaysSpent = mean(Number_of_Days))\n",
    "                return(aggr_days)\n",
    "                    }\n"
   ]
  },
  {
   "cell_type": "code",
   "execution_count": 119,
   "metadata": {},
   "outputs": [],
   "source": [
    "#creating functions to calculate the preferred accommodation type\n",
    "getmode <- function(v) {\n",
    "   uniqv <- unique(v)\n",
    "   uniqv[which.max(tabulate(match(v, uniqv)))]\n",
    "}\n",
    "\n",
    "hotel_c <- function(df){\n",
    "    \n",
    "            select_hotel <- df %>% \n",
    "                    select(c(1:6,8))\n",
    "\n",
    "            aggr_hotel <- aggregate(x = select_hotel, by = list(select_hotel$Year,select_hotel$Month,select_hotel$Quarter,\n",
    "                                                                select_hotel$Country,select_hotel$NZ_City,select_hotel$Visit_Purpose),\n",
    "                                                                FUN = getmode) %>%\n",
    "                          select(-c(1,2,3,4)) %>%\n",
    "                          arrange(desc(Year))\n",
    "            return(aggr_hotel)\n",
    "    }\n",
    "#a <- hotel_c(clean_df)  \n",
    "#write_csv(a,\"F:/UoC/MADS/DATA422 - Data Wrangling/Project/Output/EDA/Hotel_Test.csv\")"
   ]
  },
  {
   "cell_type": "code",
   "execution_count": 120,
   "metadata": {},
   "outputs": [],
   "source": [
    "#creating a function to calculate the Average Age\n",
    "\n",
    "age_calc <- function(df) {\n",
    "df %>%\n",
    "    mutate(Age = case_when(df$Age_Range == \"Under 20\" ~ \"20\",\n",
    "           df$Age_Range == \"20 - 24\" ~ \"22\",\n",
    "           df$Age_Range == \"25 - 29\" ~ \"27\",\n",
    "           df$Age_Range == \"30 - 34\" ~ \"32\",\n",
    "           df$Age_Range == \"35 - 39\" ~ \"37\",\n",
    "           df$Age_Range == \"40 - 44\" ~ \"42\",\n",
    "           df$Age_Range == \"45 - 49\" ~ \"47\",\n",
    "           df$Age_Range == \"50 - 54\" ~ \"52\",\n",
    "           df$Age_Range == \"55 - 59\" ~ \"57\",\n",
    "           df$Age_Range == \"60 - 64\" ~ \"62\",\n",
    "           df$Age_Range == \"65 - 69\" ~ \"67\",\n",
    "           df$Age_Range == \"70 - 74\" ~ \"72\",\n",
    "           df$Age_Range == \"75 or older\" ~ \"80\",\n",
    "           df$Age_Range == \"Rather not say\" ~ \"40\")) %>%\n",
    "        mutate (Age = as.numeric(Age)) %>%\n",
    "        group_by(Year,Month,Quarter,Country,NZ_City,Visit_Purpose) %>%\n",
    "        summarise(Age = mean(Age))\n",
    "}\n",
    "\n",
    "age_c <- function(df) {\n",
    "        select_age <- df %>% \n",
    "                        select(c(1:7))\n",
    "\n",
    "        aggr_age <- select_age %>% \n",
    "                        age_calc()\n",
    "        return(aggr_age)\n",
    "    }"
   ]
  },
  {
   "cell_type": "code",
   "execution_count": 121,
   "metadata": {},
   "outputs": [],
   "source": [
    "#creating function to calculate the Average spendings\n",
    "\n",
    "avgspend_c <- function(df){\n",
    "                aggr_spend <- df %>% \n",
    "                                select(c(1:6,10)) %>%\n",
    "                                group_by(Year,Month,Quarter,Country,NZ_City,Visit_Purpose) %>%\n",
    "                                summarise(AvgSpending = mean(Total_Spending))\n",
    "                return(aggr_spend)\n",
    "    }"
   ]
  },
  {
   "cell_type": "code",
   "execution_count": 129,
   "metadata": {},
   "outputs": [],
   "source": [
    "#creating a function to calculate the Number of people\n",
    "\n",
    "nppl_c <- function(df) {\n",
    "            aggr_ppl <- df %>% \n",
    "                        select(c(1:6,11)) %>%\n",
    "                        group_by(Year,Month,Quarter,Country,NZ_City,Visit_Purpose) %>%\n",
    "                        summarise(Number_of_People = n())\n",
    "                        return(aggr_ppl)\n",
    "                        }"
   ]
  },
  {
   "cell_type": "code",
   "execution_count": 123,
   "metadata": {},
   "outputs": [],
   "source": [
    "#consolidating all the functions into one function\n",
    "\n",
    "#df_initial\n",
    "add_aggrcolumns <- function(df) {\n",
    "#df1\n",
    "df1 <- df %>% hotel_c()\n",
    "\n",
    "#df2\n",
    "df2 <- df %>% age_c() \n",
    "\n",
    "#df3\n",
    "df3 <- df %>% avgdays_c()\n",
    "\n",
    "#df4\n",
    "df4 <- df %>% avgspend_c()\n",
    "\n",
    "#df5\n",
    "df5 <- df %>% nppl_c()\n",
    "\n",
    "#mergeall\n",
    "df_final <- Reduce(function(x, y) merge(x, y), list(df1, df2, df3, df4, df5))\n",
    "\n",
    "#df_final\n",
    "return(df_final)    \n",
    "    \n",
    "  }"
   ]
  },
  {
   "cell_type": "markdown",
   "metadata": {},
   "source": [
    "After creating all the functions, Lets apply it to the cleaned dataframe to get the desired structure"
   ]
  },
  {
   "cell_type": "code",
   "execution_count": 130,
   "metadata": {},
   "outputs": [],
   "source": [
    "#Assigning the final aggregated clean dataframe to the new data frame for later use.\n",
    "visitors_data <- clean_df %>% add_aggrcolumns()"
   ]
  },
  {
   "cell_type": "code",
   "execution_count": 131,
   "metadata": {},
   "outputs": [
    {
     "name": "stdout",
     "output_type": "stream",
     "text": [
      "Observations: 13,121\n",
      "Variables: 13\n",
      "$ Year               \u001b[3m\u001b[90m<dbl>\u001b[39m\u001b[23m 2014, 2014, 2014, 2014, 2014, 2014, 2014, 2014, ...\n",
      "$ Month              \u001b[3m\u001b[90m<chr>\u001b[39m\u001b[23m \"April\", \"April\", \"April\", \"April\", \"April\", \"Ap...\n",
      "$ Quarter            \u001b[3m\u001b[90m<chr>\u001b[39m\u001b[23m \"2014 1\", \"2014 1\", \"2014 1\", \"2014 2\", \"2014 2\"...\n",
      "$ Country            \u001b[3m\u001b[90m<chr>\u001b[39m\u001b[23m \"Czech Republic\", \"England\", \"France\", \"Australi...\n",
      "$ NZ_City            \u001b[3m\u001b[90m<chr>\u001b[39m\u001b[23m \"Auckland\", \"Christchurch\", \"Auckland\", \"Aucklan...\n",
      "$ Visit_Purpose      \u001b[3m\u001b[90m<chr>\u001b[39m\u001b[23m \"Other\", \"Holiday / vacation\", \"Other\", \"Busines...\n",
      "$ Group.5            \u001b[3m\u001b[90m<chr>\u001b[39m\u001b[23m \"Auckland\", \"Christchurch\", \"Auckland\", \"Aucklan...\n",
      "$ Group.6            \u001b[3m\u001b[90m<chr>\u001b[39m\u001b[23m \"Other\", \"Holiday / vacation\", \"Other\", \"Busines...\n",
      "$ Accommadation_Type \u001b[3m\u001b[90m<chr>\u001b[39m\u001b[23m \"Backpackers\", \"Motel, Motor Inn or Serviced Apa...\n",
      "$ Age                \u001b[3m\u001b[90m<dbl>\u001b[39m\u001b[23m 22.00000, 67.00000, 27.00000, 39.50000, 30.75000...\n",
      "$ AvgDaysSpent       \u001b[3m\u001b[90m<dbl>\u001b[39m\u001b[23m 352.000000, 22.000000, 357.000000, 5.625000, 4.5...\n",
      "$ AvgSpending        \u001b[3m\u001b[90m<dbl>\u001b[39m\u001b[23m 22000.0000, 3662.9903, 5000.0000, 1122.4051, 119...\n",
      "$ Number_of_People   \u001b[3m\u001b[90m<int>\u001b[39m\u001b[23m 1, 1, 1, 8, 4, 1, 28, 2, 34, 3, 42, 15, 1, 1, 17...\n"
     ]
    }
   ],
   "source": [
    "visitors_data %>% glimpse"
   ]
  },
  {
   "cell_type": "code",
   "execution_count": 148,
   "metadata": {},
   "outputs": [
    {
     "data": {
      "text/html": [
       "<table>\n",
       "<caption>A data.frame: 6 × 13</caption>\n",
       "<thead>\n",
       "\t<tr><th scope=col>Year</th><th scope=col>Month</th><th scope=col>Quarter</th><th scope=col>Country</th><th scope=col>NZ_City</th><th scope=col>Visit_Purpose</th><th scope=col>Group.5</th><th scope=col>Group.6</th><th scope=col>Accommadation_Type</th><th scope=col>Age</th><th scope=col>AvgDaysSpent</th><th scope=col>AvgSpending</th><th scope=col>Number_of_People</th></tr>\n",
       "\t<tr><th scope=col>&lt;dbl&gt;</th><th scope=col>&lt;chr&gt;</th><th scope=col>&lt;chr&gt;</th><th scope=col>&lt;chr&gt;</th><th scope=col>&lt;chr&gt;</th><th scope=col>&lt;chr&gt;</th><th scope=col>&lt;chr&gt;</th><th scope=col>&lt;chr&gt;</th><th scope=col>&lt;chr&gt;</th><th scope=col>&lt;dbl&gt;</th><th scope=col>&lt;dbl&gt;</th><th scope=col>&lt;dbl&gt;</th><th scope=col>&lt;int&gt;</th></tr>\n",
       "</thead>\n",
       "<tbody>\n",
       "\t<tr><td>2014</td><td>April</td><td>2014 1</td><td>Czech Republic</td><td>Auckland    </td><td>Other                  </td><td>Auckland    </td><td>Other                  </td><td>Backpackers                                     </td><td>22.00</td><td>352.000</td><td>22000.0000</td><td>1</td></tr>\n",
       "\t<tr><td>2014</td><td>April</td><td>2014 1</td><td>England       </td><td>Christchurch</td><td>Holiday / vacation     </td><td>Christchurch</td><td>Holiday / vacation     </td><td>Motel, Motor Inn or Serviced Apartment          </td><td>67.00</td><td> 22.000</td><td> 3662.9903</td><td>1</td></tr>\n",
       "\t<tr><td>2014</td><td>April</td><td>2014 1</td><td>France        </td><td>Auckland    </td><td>Other                  </td><td>Auckland    </td><td>Other                  </td><td>House / flat that you paid some rent for        </td><td>27.00</td><td>357.000</td><td> 5000.0000</td><td>1</td></tr>\n",
       "\t<tr><td>2014</td><td>April</td><td>2014 2</td><td>Australia     </td><td>Auckland    </td><td>Business               </td><td>Auckland    </td><td>Business               </td><td>Motel, Motor Inn or Serviced Apartment          </td><td>39.50</td><td>  5.625</td><td> 1122.4051</td><td>8</td></tr>\n",
       "\t<tr><td>2014</td><td>April</td><td>2014 2</td><td>Australia     </td><td>Auckland    </td><td>Conference / convention</td><td>Auckland    </td><td>Conference / convention</td><td>Luxury Accommodation, 5-star Hotel, Luxury Lodge</td><td>30.75</td><td>  4.500</td><td> 1190.8391</td><td>4</td></tr>\n",
       "\t<tr><td>2014</td><td>April</td><td>2014 2</td><td>Australia     </td><td>Auckland    </td><td>Education              </td><td>Auckland    </td><td>Education              </td><td>Staying with family or friends                  </td><td>27.00</td><td>  6.000</td><td>  649.5486</td><td>1</td></tr>\n",
       "</tbody>\n",
       "</table>\n"
      ],
      "text/latex": [
       "A data.frame: 6 × 13\n",
       "\\begin{tabular}{r|lllllllllllll}\n",
       " Year & Month & Quarter & Country & NZ\\_City & Visit\\_Purpose & Group.5 & Group.6 & Accommadation\\_Type & Age & AvgDaysSpent & AvgSpending & Number\\_of\\_People\\\\\n",
       " <dbl> & <chr> & <chr> & <chr> & <chr> & <chr> & <chr> & <chr> & <chr> & <dbl> & <dbl> & <dbl> & <int>\\\\\n",
       "\\hline\n",
       "\t 2014 & April & 2014 1 & Czech Republic & Auckland     & Other                   & Auckland     & Other                   & Backpackers                                      & 22.00 & 352.000 & 22000.0000 & 1\\\\\n",
       "\t 2014 & April & 2014 1 & England        & Christchurch & Holiday / vacation      & Christchurch & Holiday / vacation      & Motel, Motor Inn or Serviced Apartment           & 67.00 &  22.000 &  3662.9903 & 1\\\\\n",
       "\t 2014 & April & 2014 1 & France         & Auckland     & Other                   & Auckland     & Other                   & House / flat that you paid some rent for         & 27.00 & 357.000 &  5000.0000 & 1\\\\\n",
       "\t 2014 & April & 2014 2 & Australia      & Auckland     & Business                & Auckland     & Business                & Motel, Motor Inn or Serviced Apartment           & 39.50 &   5.625 &  1122.4051 & 8\\\\\n",
       "\t 2014 & April & 2014 2 & Australia      & Auckland     & Conference / convention & Auckland     & Conference / convention & Luxury Accommodation, 5-star Hotel, Luxury Lodge & 30.75 &   4.500 &  1190.8391 & 4\\\\\n",
       "\t 2014 & April & 2014 2 & Australia      & Auckland     & Education               & Auckland     & Education               & Staying with family or friends                   & 27.00 &   6.000 &   649.5486 & 1\\\\\n",
       "\\end{tabular}\n"
      ],
      "text/markdown": [
       "\n",
       "A data.frame: 6 × 13\n",
       "\n",
       "| Year &lt;dbl&gt; | Month &lt;chr&gt; | Quarter &lt;chr&gt; | Country &lt;chr&gt; | NZ_City &lt;chr&gt; | Visit_Purpose &lt;chr&gt; | Group.5 &lt;chr&gt; | Group.6 &lt;chr&gt; | Accommadation_Type &lt;chr&gt; | Age &lt;dbl&gt; | AvgDaysSpent &lt;dbl&gt; | AvgSpending &lt;dbl&gt; | Number_of_People &lt;int&gt; |\n",
       "|---|---|---|---|---|---|---|---|---|---|---|---|---|\n",
       "| 2014 | April | 2014 1 | Czech Republic | Auckland     | Other                   | Auckland     | Other                   | Backpackers                                      | 22.00 | 352.000 | 22000.0000 | 1 |\n",
       "| 2014 | April | 2014 1 | England        | Christchurch | Holiday / vacation      | Christchurch | Holiday / vacation      | Motel, Motor Inn or Serviced Apartment           | 67.00 |  22.000 |  3662.9903 | 1 |\n",
       "| 2014 | April | 2014 1 | France         | Auckland     | Other                   | Auckland     | Other                   | House / flat that you paid some rent for         | 27.00 | 357.000 |  5000.0000 | 1 |\n",
       "| 2014 | April | 2014 2 | Australia      | Auckland     | Business                | Auckland     | Business                | Motel, Motor Inn or Serviced Apartment           | 39.50 |   5.625 |  1122.4051 | 8 |\n",
       "| 2014 | April | 2014 2 | Australia      | Auckland     | Conference / convention | Auckland     | Conference / convention | Luxury Accommodation, 5-star Hotel, Luxury Lodge | 30.75 |   4.500 |  1190.8391 | 4 |\n",
       "| 2014 | April | 2014 2 | Australia      | Auckland     | Education               | Auckland     | Education               | Staying with family or friends                   | 27.00 |   6.000 |   649.5486 | 1 |\n",
       "\n"
      ],
      "text/plain": [
       "  Year Month Quarter Country        NZ_City      Visit_Purpose          \n",
       "1 2014 April 2014 1  Czech Republic Auckland     Other                  \n",
       "2 2014 April 2014 1  England        Christchurch Holiday / vacation     \n",
       "3 2014 April 2014 1  France         Auckland     Other                  \n",
       "4 2014 April 2014 2  Australia      Auckland     Business               \n",
       "5 2014 April 2014 2  Australia      Auckland     Conference / convention\n",
       "6 2014 April 2014 2  Australia      Auckland     Education              \n",
       "  Group.5      Group.6                \n",
       "1 Auckland     Other                  \n",
       "2 Christchurch Holiday / vacation     \n",
       "3 Auckland     Other                  \n",
       "4 Auckland     Business               \n",
       "5 Auckland     Conference / convention\n",
       "6 Auckland     Education              \n",
       "  Accommadation_Type                               Age   AvgDaysSpent\n",
       "1 Backpackers                                      22.00 352.000     \n",
       "2 Motel, Motor Inn or Serviced Apartment           67.00  22.000     \n",
       "3 House / flat that you paid some rent for         27.00 357.000     \n",
       "4 Motel, Motor Inn or Serviced Apartment           39.50   5.625     \n",
       "5 Luxury Accommodation, 5-star Hotel, Luxury Lodge 30.75   4.500     \n",
       "6 Staying with family or friends                   27.00   6.000     \n",
       "  AvgSpending Number_of_People\n",
       "1 22000.0000  1               \n",
       "2  3662.9903  1               \n",
       "3  5000.0000  1               \n",
       "4  1122.4051  8               \n",
       "5  1190.8391  4               \n",
       "6   649.5486  1               "
      ]
     },
     "metadata": {},
     "output_type": "display_data"
    }
   ],
   "source": [
    "visitors_data %>% head"
   ]
  },
  {
   "cell_type": "markdown",
   "metadata": {},
   "source": [
    "### Section - 2: Building the data model\n",
    "\n",
    "Inorder to avoid confusion, rest of the data sets are wrangled in a different notebook. To get the ouput files of those data sets run the respective notebook files as mentioned in <b>`read_me.txt`</b> file.\n",
    "\n",
    "#### `After executing all the other notebooks , go to section - 3 given below.`"
   ]
  },
  {
   "cell_type": "markdown",
   "metadata": {},
   "source": [
    "   "
   ]
  },
  {
   "cell_type": "markdown",
   "metadata": {},
   "source": [
    "### Section - 3: Merging the datasets and Visualization\n",
    "\n",
    "This section involves the step of merging other entities such as FoodPrice, HouseRental, Crime with International Visitors (IVS) data to create visualizations and make inferences from it.\n",
    "\n",
    "The steps are as follows:\n",
    "   1. Here for each visualization we will be joining different datasets as required to plot the graph\n",
    "   2. Plotting the graph\n",
    "    \n",
    "Since we have more number of records in the final dataframe of IVS, we will be filtering with certain fields such as Year and NZ_City for the purpose of visualization.\n",
    "\n",
    "With the final data model, as mentioned in the project report we can join all four entities with the key fields such as Year, Month, Quarter, NZ_City for further analysis. This is why we shaped all the datasets into a common structure. "
   ]
  },
  {
   "cell_type": "markdown",
   "metadata": {},
   "source": [
    "### Visualization on IVS Data\n",
    "\n",
    "First, Lets create plots and inferences from IVS data followed by the final data model."
   ]
  },
  {
   "cell_type": "code",
   "execution_count": 136,
   "metadata": {},
   "outputs": [
    {
     "data": {
      "text/html": [
       "<table>\n",
       "<caption>A grouped_df: 24 × 3</caption>\n",
       "<thead>\n",
       "\t<tr><th scope=col>Year</th><th scope=col>NZ_City</th><th scope=col>Total_Visitors</th></tr>\n",
       "\t<tr><th scope=col>&lt;dbl&gt;</th><th scope=col>&lt;chr&gt;</th><th scope=col>&lt;int&gt;</th></tr>\n",
       "</thead>\n",
       "<tbody>\n",
       "\t<tr><td>2014</td><td>Auckland    </td><td>6913</td></tr>\n",
       "\t<tr><td>2014</td><td>Christchurch</td><td>2192</td></tr>\n",
       "\t<tr><td>2014</td><td>Queenstown  </td><td> 353</td></tr>\n",
       "\t<tr><td>2014</td><td>Wellington  </td><td> 575</td></tr>\n",
       "\t<tr><td>2015</td><td>Auckland    </td><td>6514</td></tr>\n",
       "\t<tr><td>2015</td><td>Christchurch</td><td>2227</td></tr>\n",
       "\t<tr><td>2015</td><td>Queenstown  </td><td> 157</td></tr>\n",
       "\t<tr><td>2015</td><td>Wellington  </td><td> 605</td></tr>\n",
       "\t<tr><td>2016</td><td>Auckland    </td><td>5299</td></tr>\n",
       "\t<tr><td>2016</td><td>Christchurch</td><td>2301</td></tr>\n",
       "\t<tr><td>2016</td><td>Queenstown  </td><td> 110</td></tr>\n",
       "\t<tr><td>2016</td><td>Wellington  </td><td> 740</td></tr>\n",
       "\t<tr><td>2017</td><td>Auckland    </td><td>5213</td></tr>\n",
       "\t<tr><td>2017</td><td>Christchurch</td><td>2286</td></tr>\n",
       "\t<tr><td>2017</td><td>Queenstown  </td><td> 302</td></tr>\n",
       "\t<tr><td>2017</td><td>Wellington  </td><td> 803</td></tr>\n",
       "\t<tr><td>2018</td><td>Auckland    </td><td>6114</td></tr>\n",
       "\t<tr><td>2018</td><td>Christchurch</td><td>1867</td></tr>\n",
       "\t<tr><td>2018</td><td>Queenstown  </td><td> 643</td></tr>\n",
       "\t<tr><td>2018</td><td>Wellington  </td><td> 624</td></tr>\n",
       "\t<tr><td>2019</td><td>Auckland    </td><td>3603</td></tr>\n",
       "\t<tr><td>2019</td><td>Christchurch</td><td>1006</td></tr>\n",
       "\t<tr><td>2019</td><td>Queenstown  </td><td> 361</td></tr>\n",
       "\t<tr><td>2019</td><td>Wellington  </td><td> 332</td></tr>\n",
       "</tbody>\n",
       "</table>\n"
      ],
      "text/latex": [
       "A grouped_df: 24 × 3\n",
       "\\begin{tabular}{r|lll}\n",
       " Year & NZ\\_City & Total\\_Visitors\\\\\n",
       " <dbl> & <chr> & <int>\\\\\n",
       "\\hline\n",
       "\t 2014 & Auckland     & 6913\\\\\n",
       "\t 2014 & Christchurch & 2192\\\\\n",
       "\t 2014 & Queenstown   &  353\\\\\n",
       "\t 2014 & Wellington   &  575\\\\\n",
       "\t 2015 & Auckland     & 6514\\\\\n",
       "\t 2015 & Christchurch & 2227\\\\\n",
       "\t 2015 & Queenstown   &  157\\\\\n",
       "\t 2015 & Wellington   &  605\\\\\n",
       "\t 2016 & Auckland     & 5299\\\\\n",
       "\t 2016 & Christchurch & 2301\\\\\n",
       "\t 2016 & Queenstown   &  110\\\\\n",
       "\t 2016 & Wellington   &  740\\\\\n",
       "\t 2017 & Auckland     & 5213\\\\\n",
       "\t 2017 & Christchurch & 2286\\\\\n",
       "\t 2017 & Queenstown   &  302\\\\\n",
       "\t 2017 & Wellington   &  803\\\\\n",
       "\t 2018 & Auckland     & 6114\\\\\n",
       "\t 2018 & Christchurch & 1867\\\\\n",
       "\t 2018 & Queenstown   &  643\\\\\n",
       "\t 2018 & Wellington   &  624\\\\\n",
       "\t 2019 & Auckland     & 3603\\\\\n",
       "\t 2019 & Christchurch & 1006\\\\\n",
       "\t 2019 & Queenstown   &  361\\\\\n",
       "\t 2019 & Wellington   &  332\\\\\n",
       "\\end{tabular}\n"
      ],
      "text/markdown": [
       "\n",
       "A grouped_df: 24 × 3\n",
       "\n",
       "| Year &lt;dbl&gt; | NZ_City &lt;chr&gt; | Total_Visitors &lt;int&gt; |\n",
       "|---|---|---|\n",
       "| 2014 | Auckland     | 6913 |\n",
       "| 2014 | Christchurch | 2192 |\n",
       "| 2014 | Queenstown   |  353 |\n",
       "| 2014 | Wellington   |  575 |\n",
       "| 2015 | Auckland     | 6514 |\n",
       "| 2015 | Christchurch | 2227 |\n",
       "| 2015 | Queenstown   |  157 |\n",
       "| 2015 | Wellington   |  605 |\n",
       "| 2016 | Auckland     | 5299 |\n",
       "| 2016 | Christchurch | 2301 |\n",
       "| 2016 | Queenstown   |  110 |\n",
       "| 2016 | Wellington   |  740 |\n",
       "| 2017 | Auckland     | 5213 |\n",
       "| 2017 | Christchurch | 2286 |\n",
       "| 2017 | Queenstown   |  302 |\n",
       "| 2017 | Wellington   |  803 |\n",
       "| 2018 | Auckland     | 6114 |\n",
       "| 2018 | Christchurch | 1867 |\n",
       "| 2018 | Queenstown   |  643 |\n",
       "| 2018 | Wellington   |  624 |\n",
       "| 2019 | Auckland     | 3603 |\n",
       "| 2019 | Christchurch | 1006 |\n",
       "| 2019 | Queenstown   |  361 |\n",
       "| 2019 | Wellington   |  332 |\n",
       "\n"
      ],
      "text/plain": [
       "   Year NZ_City      Total_Visitors\n",
       "1  2014 Auckland     6913          \n",
       "2  2014 Christchurch 2192          \n",
       "3  2014 Queenstown    353          \n",
       "4  2014 Wellington    575          \n",
       "5  2015 Auckland     6514          \n",
       "6  2015 Christchurch 2227          \n",
       "7  2015 Queenstown    157          \n",
       "8  2015 Wellington    605          \n",
       "9  2016 Auckland     5299          \n",
       "10 2016 Christchurch 2301          \n",
       "11 2016 Queenstown    110          \n",
       "12 2016 Wellington    740          \n",
       "13 2017 Auckland     5213          \n",
       "14 2017 Christchurch 2286          \n",
       "15 2017 Queenstown    302          \n",
       "16 2017 Wellington    803          \n",
       "17 2018 Auckland     6114          \n",
       "18 2018 Christchurch 1867          \n",
       "19 2018 Queenstown    643          \n",
       "20 2018 Wellington    624          \n",
       "21 2019 Auckland     3603          \n",
       "22 2019 Christchurch 1006          \n",
       "23 2019 Queenstown    361          \n",
       "24 2019 Wellington    332          "
      ]
     },
     "metadata": {},
     "output_type": "display_data"
    }
   ],
   "source": [
    "#creating a dataframe for plotting\n",
    "vis1 <- visitors_data  %>% select(Year,NZ_City,Number_of_People) %>% group_by(Year,NZ_City) %>% summarise(Total_Visitors = sum(Number_of_People))\n",
    "\n",
    "vis1"
   ]
  },
  {
   "cell_type": "code",
   "execution_count": 137,
   "metadata": {},
   "outputs": [
    {
     "data": {
      "image/png": "[encoded data removed]",
      "text/plain": [
       "plot without title"
      ]
     },
     "metadata": {},
     "output_type": "display_data"
    }
   ],
   "source": [
    "#A line chart that compares the trend of number of visitors to each city over the last 5 years.\n",
    "\n",
    "ggplot(data= vis1, aes(x= Year, y=Total_Visitors, group= NZ_City)) +\n",
    "  geom_line()+\n",
    "  geom_point()"
   ]
  },
  {
   "cell_type": "code",
   "execution_count": 139,
   "metadata": {},
   "outputs": [
    {
     "name": "stderr",
     "output_type": "stream",
     "text": [
      "Selecting by Total_Visitors\n"
     ]
    },
    {
     "data": {
      "text/html": [
       "<table>\n",
       "<caption>A grouped_df: 10 × 4</caption>\n",
       "<thead>\n",
       "\t<tr><th scope=col>Year</th><th scope=col>NZ_City</th><th scope=col>Country</th><th scope=col>Total_Visitors</th></tr>\n",
       "\t<tr><th scope=col>&lt;dbl&gt;</th><th scope=col>&lt;chr&gt;</th><th scope=col>&lt;chr&gt;</th><th scope=col>&lt;int&gt;</th></tr>\n",
       "</thead>\n",
       "<tbody>\n",
       "\t<tr><td>2018</td><td>Auckland    </td><td>China, People's Republic of</td><td>881</td></tr>\n",
       "\t<tr><td>2018</td><td>Auckland    </td><td>Australia                  </td><td>738</td></tr>\n",
       "\t<tr><td>2018</td><td>Auckland    </td><td>Japan                      </td><td>639</td></tr>\n",
       "\t<tr><td>2018</td><td>Auckland    </td><td>United States of America   </td><td>628</td></tr>\n",
       "\t<tr><td>2018</td><td>Christchurch</td><td>Australia                  </td><td>625</td></tr>\n",
       "\t<tr><td>2018</td><td>Auckland    </td><td>England                    </td><td>537</td></tr>\n",
       "\t<tr><td>2018</td><td>Christchurch</td><td>England                    </td><td>239</td></tr>\n",
       "\t<tr><td>2018</td><td>Christchurch</td><td>Germany                    </td><td>164</td></tr>\n",
       "\t<tr><td>2018</td><td>Christchurch</td><td>China, People's Republic of</td><td>123</td></tr>\n",
       "\t<tr><td>2018</td><td>Christchurch</td><td>Singapore                  </td><td> 92</td></tr>\n",
       "</tbody>\n",
       "</table>\n"
      ],
      "text/latex": [
       "A grouped_df: 10 × 4\n",
       "\\begin{tabular}{r|llll}\n",
       " Year & NZ\\_City & Country & Total\\_Visitors\\\\\n",
       " <dbl> & <chr> & <chr> & <int>\\\\\n",
       "\\hline\n",
       "\t 2018 & Auckland     & China, People's Republic of & 881\\\\\n",
       "\t 2018 & Auckland     & Australia                   & 738\\\\\n",
       "\t 2018 & Auckland     & Japan                       & 639\\\\\n",
       "\t 2018 & Auckland     & United States of America    & 628\\\\\n",
       "\t 2018 & Christchurch & Australia                   & 625\\\\\n",
       "\t 2018 & Auckland     & England                     & 537\\\\\n",
       "\t 2018 & Christchurch & England                     & 239\\\\\n",
       "\t 2018 & Christchurch & Germany                     & 164\\\\\n",
       "\t 2018 & Christchurch & China, People's Republic of & 123\\\\\n",
       "\t 2018 & Christchurch & Singapore                   &  92\\\\\n",
       "\\end{tabular}\n"
      ],
      "text/markdown": [
       "\n",
       "A grouped_df: 10 × 4\n",
       "\n",
       "| Year &lt;dbl&gt; | NZ_City &lt;chr&gt; | Country &lt;chr&gt; | Total_Visitors &lt;int&gt; |\n",
       "|---|---|---|---|\n",
       "| 2018 | Auckland     | China, People's Republic of | 881 |\n",
       "| 2018 | Auckland     | Australia                   | 738 |\n",
       "| 2018 | Auckland     | Japan                       | 639 |\n",
       "| 2018 | Auckland     | United States of America    | 628 |\n",
       "| 2018 | Christchurch | Australia                   | 625 |\n",
       "| 2018 | Auckland     | England                     | 537 |\n",
       "| 2018 | Christchurch | England                     | 239 |\n",
       "| 2018 | Christchurch | Germany                     | 164 |\n",
       "| 2018 | Christchurch | China, People's Republic of | 123 |\n",
       "| 2018 | Christchurch | Singapore                   |  92 |\n",
       "\n"
      ],
      "text/plain": [
       "   Year NZ_City      Country                     Total_Visitors\n",
       "1  2018 Auckland     China, People's Republic of 881           \n",
       "2  2018 Auckland     Australia                   738           \n",
       "3  2018 Auckland     Japan                       639           \n",
       "4  2018 Auckland     United States of America    628           \n",
       "5  2018 Christchurch Australia                   625           \n",
       "6  2018 Auckland     England                     537           \n",
       "7  2018 Christchurch England                     239           \n",
       "8  2018 Christchurch Germany                     164           \n",
       "9  2018 Christchurch China, People's Republic of 123           \n",
       "10 2018 Christchurch Singapore                    92           "
      ]
     },
     "metadata": {},
     "output_type": "display_data"
    }
   ],
   "source": [
    "#creating a dataframe for plotting bar chart\n",
    "vis2 <- visitors_data %>% filter(Year == 2018) %>% filter(NZ_City == \"Christchurch\" | NZ_City == \"Auckland\" ) %>% \n",
    "        select(Year,NZ_City,Country,Number_of_People) %>% group_by(Year,NZ_City,Country) %>% \n",
    "        summarise(Total_Visitors = sum(Number_of_People)) %>% arrange(desc(Total_Visitors)) %>%\n",
    "        top_n(5)\n",
    "\n",
    "vis2"
   ]
  },
  {
   "cell_type": "code",
   "execution_count": 140,
   "metadata": {},
   "outputs": [
    {
     "data": {
      "image/png": "[encoded data removed]",
      "text/plain": [
       "plot without title"
      ]
     },
     "metadata": {},
     "output_type": "display_data"
    }
   ],
   "source": [
    "#A grouped bar chart that compares the number of visitors to Auckland and Christchurch city in the last year.\n",
    "\n",
    "ggplot(data= vis2, aes(x=NZ_City, y= Total_Visitors, fill=Country)) +\n",
    "  geom_bar(stat=\"identity\", position=position_dodge())+\n",
    "  geom_text(aes(label= Total_Visitors), vjust=1.6, color=\"white\",\n",
    "            position = position_dodge(0.9), size=3.5)+\n",
    "  scale_fill_brewer(palette=\"Paired\")+\n",
    "  theme_minimal()"
   ]
  },
  {
   "cell_type": "code",
   "execution_count": 142,
   "metadata": {},
   "outputs": [
    {
     "name": "stderr",
     "output_type": "stream",
     "text": [
      "Selecting by Total_Visitors\n"
     ]
    },
    {
     "data": {
      "text/html": [
       "<table>\n",
       "<caption>A grouped_df: 5 × 4</caption>\n",
       "<thead>\n",
       "\t<tr><th scope=col>Year</th><th scope=col>NZ_City</th><th scope=col>Visit_Purpose</th><th scope=col>Total_Visitors</th></tr>\n",
       "\t<tr><th scope=col>&lt;dbl&gt;</th><th scope=col>&lt;chr&gt;</th><th scope=col>&lt;chr&gt;</th><th scope=col>&lt;int&gt;</th></tr>\n",
       "</thead>\n",
       "<tbody>\n",
       "\t<tr><td>2018</td><td>Christchurch</td><td>Holiday / vacation          </td><td>1390</td></tr>\n",
       "\t<tr><td>2018</td><td>Christchurch</td><td>Visiting friends / relatives</td><td> 351</td></tr>\n",
       "\t<tr><td>2018</td><td>Christchurch</td><td>Business                    </td><td>  60</td></tr>\n",
       "\t<tr><td>2018</td><td>Christchurch</td><td>Other                       </td><td>  29</td></tr>\n",
       "\t<tr><td>2018</td><td>Christchurch</td><td>Education                   </td><td>  25</td></tr>\n",
       "</tbody>\n",
       "</table>\n"
      ],
      "text/latex": [
       "A grouped_df: 5 × 4\n",
       "\\begin{tabular}{r|llll}\n",
       " Year & NZ\\_City & Visit\\_Purpose & Total\\_Visitors\\\\\n",
       " <dbl> & <chr> & <chr> & <int>\\\\\n",
       "\\hline\n",
       "\t 2018 & Christchurch & Holiday / vacation           & 1390\\\\\n",
       "\t 2018 & Christchurch & Visiting friends / relatives &  351\\\\\n",
       "\t 2018 & Christchurch & Business                     &   60\\\\\n",
       "\t 2018 & Christchurch & Other                        &   29\\\\\n",
       "\t 2018 & Christchurch & Education                    &   25\\\\\n",
       "\\end{tabular}\n"
      ],
      "text/markdown": [
       "\n",
       "A grouped_df: 5 × 4\n",
       "\n",
       "| Year &lt;dbl&gt; | NZ_City &lt;chr&gt; | Visit_Purpose &lt;chr&gt; | Total_Visitors &lt;int&gt; |\n",
       "|---|---|---|---|\n",
       "| 2018 | Christchurch | Holiday / vacation           | 1390 |\n",
       "| 2018 | Christchurch | Visiting friends / relatives |  351 |\n",
       "| 2018 | Christchurch | Business                     |   60 |\n",
       "| 2018 | Christchurch | Other                        |   29 |\n",
       "| 2018 | Christchurch | Education                    |   25 |\n",
       "\n"
      ],
      "text/plain": [
       "  Year NZ_City      Visit_Purpose                Total_Visitors\n",
       "1 2018 Christchurch Holiday / vacation           1390          \n",
       "2 2018 Christchurch Visiting friends / relatives  351          \n",
       "3 2018 Christchurch Business                       60          \n",
       "4 2018 Christchurch Other                          29          \n",
       "5 2018 Christchurch Education                      25          "
      ]
     },
     "metadata": {},
     "output_type": "display_data"
    }
   ],
   "source": [
    "#creating a dataframe for plotting pie chart\n",
    "vis3 <- visitors_data %>% filter(Year == 2018) %>% filter(NZ_City == \"Christchurch\") %>% \n",
    "        select(Year,NZ_City,Visit_Purpose,Number_of_People) %>% group_by(Year,NZ_City,Visit_Purpose) %>% \n",
    "        summarise(Total_Visitors = sum(Number_of_People)) %>% arrange(desc(Total_Visitors)) %>%\n",
    "        top_n(5)\n",
    "\n",
    "vis3"
   ]
  },
  {
   "cell_type": "code",
   "execution_count": 145,
   "metadata": {},
   "outputs": [
    {
     "data": {
      "image/png": "[encoded data removed]",
      "text/plain": [
       "plot without title"
      ]
     },
     "metadata": {},
     "output_type": "display_data"
    }
   ],
   "source": [
    "#A pie that compares the number of visitors to Christchurch city in the last year by the Purpose of Visit.\n",
    "\n",
    "ggplot(vis3, aes(x = \"\", y = Total_Visitors , fill = Visit_Purpose)) +\n",
    "  geom_bar(width = 1, stat = \"identity\", color = \"white\") +\n",
    "  coord_polar(\"y\", start = 0)+\n",
    "  theme_void()"
   ]
  },
  {
   "cell_type": "code",
   "execution_count": 146,
   "metadata": {},
   "outputs": [
    {
     "name": "stderr",
     "output_type": "stream",
     "text": [
      "Selecting by Total_Visitors\n"
     ]
    },
    {
     "data": {
      "text/html": [
       "<table>\n",
       "<caption>A grouped_df: 5 × 4</caption>\n",
       "<thead>\n",
       "\t<tr><th scope=col>Year</th><th scope=col>NZ_City</th><th scope=col>Visit_Purpose</th><th scope=col>Total_Visitors</th></tr>\n",
       "\t<tr><th scope=col>&lt;dbl&gt;</th><th scope=col>&lt;chr&gt;</th><th scope=col>&lt;chr&gt;</th><th scope=col>&lt;int&gt;</th></tr>\n",
       "</thead>\n",
       "<tbody>\n",
       "\t<tr><td>2018</td><td>Auckland</td><td>Holiday / vacation          </td><td>3950</td></tr>\n",
       "\t<tr><td>2018</td><td>Auckland</td><td>Visiting friends / relatives</td><td>1340</td></tr>\n",
       "\t<tr><td>2018</td><td>Auckland</td><td>Business                    </td><td> 347</td></tr>\n",
       "\t<tr><td>2018</td><td>Auckland</td><td>Other                       </td><td> 203</td></tr>\n",
       "\t<tr><td>2018</td><td>Auckland</td><td>Education                   </td><td> 138</td></tr>\n",
       "</tbody>\n",
       "</table>\n"
      ],
      "text/latex": [
       "A grouped_df: 5 × 4\n",
       "\\begin{tabular}{r|llll}\n",
       " Year & NZ\\_City & Visit\\_Purpose & Total\\_Visitors\\\\\n",
       " <dbl> & <chr> & <chr> & <int>\\\\\n",
       "\\hline\n",
       "\t 2018 & Auckland & Holiday / vacation           & 3950\\\\\n",
       "\t 2018 & Auckland & Visiting friends / relatives & 1340\\\\\n",
       "\t 2018 & Auckland & Business                     &  347\\\\\n",
       "\t 2018 & Auckland & Other                        &  203\\\\\n",
       "\t 2018 & Auckland & Education                    &  138\\\\\n",
       "\\end{tabular}\n"
      ],
      "text/markdown": [
       "\n",
       "A grouped_df: 5 × 4\n",
       "\n",
       "| Year &lt;dbl&gt; | NZ_City &lt;chr&gt; | Visit_Purpose &lt;chr&gt; | Total_Visitors &lt;int&gt; |\n",
       "|---|---|---|---|\n",
       "| 2018 | Auckland | Holiday / vacation           | 3950 |\n",
       "| 2018 | Auckland | Visiting friends / relatives | 1340 |\n",
       "| 2018 | Auckland | Business                     |  347 |\n",
       "| 2018 | Auckland | Other                        |  203 |\n",
       "| 2018 | Auckland | Education                    |  138 |\n",
       "\n"
      ],
      "text/plain": [
       "  Year NZ_City  Visit_Purpose                Total_Visitors\n",
       "1 2018 Auckland Holiday / vacation           3950          \n",
       "2 2018 Auckland Visiting friends / relatives 1340          \n",
       "3 2018 Auckland Business                      347          \n",
       "4 2018 Auckland Other                         203          \n",
       "5 2018 Auckland Education                     138          "
      ]
     },
     "metadata": {},
     "output_type": "display_data"
    }
   ],
   "source": [
    "#creating a dataframe for plotting pie chart\n",
    "vis4 <- visitors_data %>% filter(Year == 2018) %>% filter(NZ_City == \"Auckland\") %>% \n",
    "        select(Year,NZ_City,Visit_Purpose,Number_of_People) %>% group_by(Year,NZ_City,Visit_Purpose) %>% \n",
    "        summarise(Total_Visitors = sum(Number_of_People)) %>% arrange(desc(Total_Visitors)) %>%\n",
    "        top_n(5)\n",
    "\n",
    "vis4"
   ]
  },
  {
   "cell_type": "code",
   "execution_count": 147,
   "metadata": {},
   "outputs": [
    {
     "data": {
      "image/png": "[encoded data removed]",
      "text/plain": [
       "plot without title"
      ]
     },
     "metadata": {},
     "output_type": "display_data"
    }
   ],
   "source": [
    "#A pie that compares the number of visitors to Auckland city in the last year by the Purpose of Visit.\n",
    "\n",
    "ggplot(vis4, aes(x = \"\", y = Total_Visitors , fill = Visit_Purpose)) +\n",
    "  geom_bar(width = 1, stat = \"identity\", color = \"white\") +\n",
    "  coord_polar(\"y\", start = 0)+\n",
    " # geom_text(aes(label = Visit_Purpose ), color = \"white\")+\n",
    "  #scale_fill_manual(values = mycols) +\n",
    "  theme_void()"
   ]
  },
  {
   "cell_type": "code",
   "execution_count": null,
   "metadata": {},
   "outputs": [],
   "source": []
  }
 ],
 "metadata": {
  "kernelspec": {
   "display_name": "R",
   "language": "R",
   "name": "ir"
  },
  "language_info": {
   "codemirror_mode": "r",
   "file_extension": ".r",
   "mimetype": "text/x-r-source",
   "name": "R",
   "pygments_lexer": "r",
   "version": "3.6.1"
  }
 },
 "nbformat": 4,
 "nbformat_minor": 4
}
